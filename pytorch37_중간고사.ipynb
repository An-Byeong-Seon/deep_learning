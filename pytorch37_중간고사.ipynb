{
  "nbformat": 4,
  "nbformat_minor": 0,
  "metadata": {
    "accelerator": "GPU",
    "colab": {
      "name": "중간고사.ipynb의 사본",
      "provenance": [],
      "collapsed_sections": []
    },
    "kernelspec": {
      "display_name": "Python 3",
      "name": "python3"
    },
    "language_info": {
      "name": "python"
    },
    "widgets": {
      "application/vnd.jupyter.widget-state+json": {
        "eeab436b1b214a03938e61a5f6e06709": {
          "model_module": "@jupyter-widgets/controls",
          "model_name": "HBoxModel",
          "state": {
            "_view_name": "HBoxView",
            "_dom_classes": [],
            "_model_name": "HBoxModel",
            "_view_module": "@jupyter-widgets/controls",
            "_model_module_version": "1.5.0",
            "_view_count": null,
            "_view_module_version": "1.5.0",
            "box_style": "",
            "layout": "IPY_MODEL_556df963fded4c86acac4f76e4d595f3",
            "_model_module": "@jupyter-widgets/controls",
            "children": [
              "IPY_MODEL_4d6e8c1731e3495dbb6da5e2c24df08e",
              "IPY_MODEL_f3c0b1076dd946668c0af89992fd2d47"
            ]
          }
        },
        "556df963fded4c86acac4f76e4d595f3": {
          "model_module": "@jupyter-widgets/base",
          "model_name": "LayoutModel",
          "state": {
            "_view_name": "LayoutView",
            "grid_template_rows": null,
            "right": null,
            "justify_content": null,
            "_view_module": "@jupyter-widgets/base",
            "overflow": null,
            "_model_module_version": "1.2.0",
            "_view_count": null,
            "flex_flow": null,
            "width": null,
            "min_width": null,
            "border": null,
            "align_items": null,
            "bottom": null,
            "_model_module": "@jupyter-widgets/base",
            "top": null,
            "grid_column": null,
            "overflow_y": null,
            "overflow_x": null,
            "grid_auto_flow": null,
            "grid_area": null,
            "grid_template_columns": null,
            "flex": null,
            "_model_name": "LayoutModel",
            "justify_items": null,
            "grid_row": null,
            "max_height": null,
            "align_content": null,
            "visibility": null,
            "align_self": null,
            "height": null,
            "min_height": null,
            "padding": null,
            "grid_auto_rows": null,
            "grid_gap": null,
            "max_width": null,
            "order": null,
            "_view_module_version": "1.2.0",
            "grid_template_areas": null,
            "object_position": null,
            "object_fit": null,
            "grid_auto_columns": null,
            "margin": null,
            "display": null,
            "left": null
          }
        },
        "4d6e8c1731e3495dbb6da5e2c24df08e": {
          "model_module": "@jupyter-widgets/controls",
          "model_name": "FloatProgressModel",
          "state": {
            "_view_name": "ProgressView",
            "style": "IPY_MODEL_f745915c3c514d04bc42f99ab5ba4270",
            "_dom_classes": [],
            "description": "",
            "_model_name": "FloatProgressModel",
            "bar_style": "success",
            "max": 170498071,
            "_view_module": "@jupyter-widgets/controls",
            "_model_module_version": "1.5.0",
            "value": 170498071,
            "_view_count": null,
            "_view_module_version": "1.5.0",
            "orientation": "horizontal",
            "min": 0,
            "description_tooltip": null,
            "_model_module": "@jupyter-widgets/controls",
            "layout": "IPY_MODEL_4fd285090c454a7a9f520e5f9d8f22b3"
          }
        },
        "f3c0b1076dd946668c0af89992fd2d47": {
          "model_module": "@jupyter-widgets/controls",
          "model_name": "HTMLModel",
          "state": {
            "_view_name": "HTMLView",
            "style": "IPY_MODEL_d5fc4a55c3ee44fa89851932eb4a5c13",
            "_dom_classes": [],
            "description": "",
            "_model_name": "HTMLModel",
            "placeholder": "​",
            "_view_module": "@jupyter-widgets/controls",
            "_model_module_version": "1.5.0",
            "value": " 170499072/? [00:07&lt;00:00, 23587474.69it/s]",
            "_view_count": null,
            "_view_module_version": "1.5.0",
            "description_tooltip": null,
            "_model_module": "@jupyter-widgets/controls",
            "layout": "IPY_MODEL_2c7ad448fee943d3824b270cffd3bbae"
          }
        },
        "f745915c3c514d04bc42f99ab5ba4270": {
          "model_module": "@jupyter-widgets/controls",
          "model_name": "ProgressStyleModel",
          "state": {
            "_view_name": "StyleView",
            "_model_name": "ProgressStyleModel",
            "description_width": "initial",
            "_view_module": "@jupyter-widgets/base",
            "_model_module_version": "1.5.0",
            "_view_count": null,
            "_view_module_version": "1.2.0",
            "bar_color": null,
            "_model_module": "@jupyter-widgets/controls"
          }
        },
        "4fd285090c454a7a9f520e5f9d8f22b3": {
          "model_module": "@jupyter-widgets/base",
          "model_name": "LayoutModel",
          "state": {
            "_view_name": "LayoutView",
            "grid_template_rows": null,
            "right": null,
            "justify_content": null,
            "_view_module": "@jupyter-widgets/base",
            "overflow": null,
            "_model_module_version": "1.2.0",
            "_view_count": null,
            "flex_flow": null,
            "width": null,
            "min_width": null,
            "border": null,
            "align_items": null,
            "bottom": null,
            "_model_module": "@jupyter-widgets/base",
            "top": null,
            "grid_column": null,
            "overflow_y": null,
            "overflow_x": null,
            "grid_auto_flow": null,
            "grid_area": null,
            "grid_template_columns": null,
            "flex": null,
            "_model_name": "LayoutModel",
            "justify_items": null,
            "grid_row": null,
            "max_height": null,
            "align_content": null,
            "visibility": null,
            "align_self": null,
            "height": null,
            "min_height": null,
            "padding": null,
            "grid_auto_rows": null,
            "grid_gap": null,
            "max_width": null,
            "order": null,
            "_view_module_version": "1.2.0",
            "grid_template_areas": null,
            "object_position": null,
            "object_fit": null,
            "grid_auto_columns": null,
            "margin": null,
            "display": null,
            "left": null
          }
        },
        "d5fc4a55c3ee44fa89851932eb4a5c13": {
          "model_module": "@jupyter-widgets/controls",
          "model_name": "DescriptionStyleModel",
          "state": {
            "_view_name": "StyleView",
            "_model_name": "DescriptionStyleModel",
            "description_width": "",
            "_view_module": "@jupyter-widgets/base",
            "_model_module_version": "1.5.0",
            "_view_count": null,
            "_view_module_version": "1.2.0",
            "_model_module": "@jupyter-widgets/controls"
          }
        },
        "2c7ad448fee943d3824b270cffd3bbae": {
          "model_module": "@jupyter-widgets/base",
          "model_name": "LayoutModel",
          "state": {
            "_view_name": "LayoutView",
            "grid_template_rows": null,
            "right": null,
            "justify_content": null,
            "_view_module": "@jupyter-widgets/base",
            "overflow": null,
            "_model_module_version": "1.2.0",
            "_view_count": null,
            "flex_flow": null,
            "width": null,
            "min_width": null,
            "border": null,
            "align_items": null,
            "bottom": null,
            "_model_module": "@jupyter-widgets/base",
            "top": null,
            "grid_column": null,
            "overflow_y": null,
            "overflow_x": null,
            "grid_auto_flow": null,
            "grid_area": null,
            "grid_template_columns": null,
            "flex": null,
            "_model_name": "LayoutModel",
            "justify_items": null,
            "grid_row": null,
            "max_height": null,
            "align_content": null,
            "visibility": null,
            "align_self": null,
            "height": null,
            "min_height": null,
            "padding": null,
            "grid_auto_rows": null,
            "grid_gap": null,
            "max_width": null,
            "order": null,
            "_view_module_version": "1.2.0",
            "grid_template_areas": null,
            "object_position": null,
            "object_fit": null,
            "grid_auto_columns": null,
            "margin": null,
            "display": null,
            "left": null
          }
        }
      }
    }
  },
  "cells": [
    {
      "cell_type": "code",
      "metadata": {
        "id": "acezLZV0_ISt"
      },
      "source": [
        "import numpy as np\n",
        "import torch\n",
        "import torch.nn as nn\n",
        "import torch.optim as optim\n",
        "import torch.nn.init as init\n",
        "import torchvision.datasets as dset\n",
        "import torchvision.transforms as transforms\n",
        "from torch.utils.data import DataLoader\n",
        "from torch.autograd import Variable\n",
        "import matplotlib.pyplot as plt\n",
        "\n",
        "from torch.optim import lr_scheduler\n",
        "\n",
        "batch_size=64\n",
        "learning_rate=0.05\n",
        "num_epoch=50"
      ],
      "execution_count": 1,
      "outputs": []
    },
    {
      "cell_type": "code",
      "metadata": {
        "id": "Sc8X_X2L_Jkt",
        "colab": {
          "base_uri": "https://localhost:8080/",
          "height": 121,
          "referenced_widgets": [
            "eeab436b1b214a03938e61a5f6e06709",
            "556df963fded4c86acac4f76e4d595f3",
            "4d6e8c1731e3495dbb6da5e2c24df08e",
            "f3c0b1076dd946668c0af89992fd2d47",
            "f745915c3c514d04bc42f99ab5ba4270",
            "4fd285090c454a7a9f520e5f9d8f22b3",
            "d5fc4a55c3ee44fa89851932eb4a5c13",
            "2c7ad448fee943d3824b270cffd3bbae"
          ]
        },
        "outputId": "a110269a-cb0b-4f45-97cd-5b8d0f14630a"
      },
      "source": [
        "cifar_train=dset.CIFAR10(\"CIFAR10/\",train=True, transform=transforms.ToTensor(),target_transform=None,download=True)\n",
        "cifar_test=dset.CIFAR10(\"CIFAR10/\",train=False,transform=transforms.ToTensor(),target_transform=None,download=True)\n",
        "cifar_train=dset.CIFAR10(\"CIFAR10/\",train=True,\n",
        "                         transform=transforms.Compose([transforms.ToTensor(),\n",
        "                                                       transforms.Normalize(mean=(0.5,0.5,0.5),std=(0.5,0.5,0.5)),\n",
        "                                                       ])\n",
        "                         , target_transform=None,download=False)\n",
        "cifar_test=dset.CIFAR10(\"CIFAR10/\",train=False,\n",
        "                        transform=transforms.Compose([transforms.ToTensor(),\n",
        "                                                       transforms.Normalize(mean=(0.5,0.5,0.5),std=(0.5,0.5,0.5)),\n",
        "                                                       ])\n",
        "                         , target_transform=None,download=False)"
      ],
      "execution_count": 2,
      "outputs": [
        {
          "output_type": "stream",
          "text": [
            "Downloading https://www.cs.toronto.edu/~kriz/cifar-10-python.tar.gz to CIFAR10/cifar-10-python.tar.gz\n"
          ],
          "name": "stdout"
        },
        {
          "output_type": "display_data",
          "data": {
            "application/vnd.jupyter.widget-view+json": {
              "model_id": "eeab436b1b214a03938e61a5f6e06709",
              "version_minor": 0,
              "version_major": 2
            },
            "text/plain": [
              "HBox(children=(FloatProgress(value=0.0, max=170498071.0), HTML(value='')))"
            ]
          },
          "metadata": {
            "tags": []
          }
        },
        {
          "output_type": "stream",
          "text": [
            "\n",
            "Extracting CIFAR10/cifar-10-python.tar.gz to CIFAR10/\n",
            "Files already downloaded and verified\n"
          ],
          "name": "stdout"
        }
      ]
    },
    {
      "cell_type": "code",
      "metadata": {
        "id": "lMExPv0x_Kzn"
      },
      "source": [
        ""
      ],
      "execution_count": 2,
      "outputs": []
    },
    {
      "cell_type": "code",
      "metadata": {
        "id": "GPZzFxmR_MBW"
      },
      "source": [
        "def ComputeAccr(dloader,imodel):\n",
        "    correct=0\n",
        "    total=0\n",
        "    \n",
        "    for j,[imgs,labels] in enumerate(dloader):\n",
        "        img=Variable(imgs,volatile=True).cuda()\n",
        "        label=Variable(labels).cuda()\n",
        "        \n",
        "        output=imodel.forward(img)\n",
        "        _,output_index=torch.max(output,1)\n",
        "        \n",
        "        total+=label.size(0)\n",
        "        correct+=(output_index==label).sum().float()\n",
        "    print(\"Accuracy of Test Data: {}\".format(100*correct/total))"
      ],
      "execution_count": 3,
      "outputs": []
    },
    {
      "cell_type": "code",
      "metadata": {
        "id": "QJycXDOJ_v8h"
      },
      "source": [
        "train_loader=torch.utils.data.DataLoader(list(cifar_train)[:],batch_size=batch_size,shuffle=True,num_workers=2,drop_last=True)\n",
        "test_loader=torch.utils.data.DataLoader(cifar_test,batch_size=batch_size,shuffle=False,num_workers=2,drop_last=True)\n",
        "\n",
        "class CNN(nn.Module):\n",
        "    def __init__(self):\n",
        "        super(CNN,self).__init__()\n",
        "        self.layer=nn.Sequential(\n",
        "            nn.Conv2d(3,16,3,padding=1),\n",
        "            nn.ELU(),\n",
        "            nn.Dropout2d(0,2),\n",
        "            nn.BatchNorm2d(16),\n",
        "            nn.Conv2d(16,32,3,padding=1),\n",
        "            nn.ELU(),\n",
        "            nn.Dropout2d(0,2),\n",
        "            nn.BatchNorm2d(32),\n",
        "            nn.MaxPool2d(2,2),\n",
        "            nn.Conv2d(32,64,3,padding=1),\n",
        "            nn.ELU(),\n",
        "            nn.Dropout2d(0,2),\n",
        "            nn.BatchNorm2d(64),\n",
        "            nn.MaxPool2d(2,2)\n",
        "        )\n",
        "        self.fc_layer=nn.Sequential(\n",
        "            nn.Linear(64*8*8,100),\n",
        "            nn.ELU(),\n",
        "            nn.Dropout2d(0,2),\n",
        "            #nn.BatchNorm1d(100),\n",
        "            nn.Linear(100,10)\n",
        "        )\n",
        "        # for m in self.modules():\n",
        "        #  if isinstance(m,nn.Conv2d):\n",
        "        #    init.kaiming_normal(m.weight.data)\n",
        "        #    m.bias.data.fill_(0)\n",
        "        #  if isinstance(m,nn.Linear):\n",
        "        #    init.kaiming_normal(m.weight.data)\n",
        "        #    m.bias.data.fill_(0)\n",
        "    def forward(self,x):\n",
        "        out=self.layer(x)\n",
        "        out=out.view(batch_size,-1)\n",
        "        out=self.fc_layer(out)\n",
        "        \n",
        "        return out\n",
        "model=CNN().cuda()"
      ],
      "execution_count": 4,
      "outputs": []
    },
    {
      "cell_type": "code",
      "metadata": {
        "colab": {
          "base_uri": "https://localhost:8080/"
        },
        "id": "lWEtqb0m_3HY",
        "outputId": "a34f6853-ec4e-4931-c0fa-b0bdcbf7104b"
      },
      "source": [
        "loss_func=nn.CrossEntropyLoss()\n",
        "optimizer=torch.optim.SGD(model.parameters(), lr=learning_rate)\n",
        "scheduler=lr_scheduler.StepLR(optimizer,step_size=20,gamma=0.2)\n",
        "model.train()\n",
        "for i in range(num_epoch):\n",
        "    for j,[image,label] in enumerate(train_loader):\n",
        "        x=Variable(image).cuda()\n",
        "        y_=Variable(label).cuda()\n",
        "        optimizer.zero_grad()\n",
        "        output=model.forward(x)\n",
        "        loss=loss_func(output,y_)\n",
        "        loss.backward()\n",
        "        optimizer.step()\n",
        "        \n",
        "        if j%1000==0:\n",
        "            print(j,loss)"
      ],
      "execution_count": 5,
      "outputs": [
        {
          "output_type": "stream",
          "text": [
            "0 tensor(2.2980, device='cuda:0', grad_fn=<NllLossBackward>)\n",
            "0 tensor(0.8509, device='cuda:0', grad_fn=<NllLossBackward>)\n",
            "0 tensor(0.6064, device='cuda:0', grad_fn=<NllLossBackward>)\n",
            "0 tensor(0.4333, device='cuda:0', grad_fn=<NllLossBackward>)\n",
            "0 tensor(0.3541, device='cuda:0', grad_fn=<NllLossBackward>)\n",
            "0 tensor(0.3627, device='cuda:0', grad_fn=<NllLossBackward>)\n",
            "0 tensor(0.2233, device='cuda:0', grad_fn=<NllLossBackward>)\n",
            "0 tensor(0.0690, device='cuda:0', grad_fn=<NllLossBackward>)\n",
            "0 tensor(0.0801, device='cuda:0', grad_fn=<NllLossBackward>)\n",
            "0 tensor(0.0515, device='cuda:0', grad_fn=<NllLossBackward>)\n",
            "0 tensor(0.0189, device='cuda:0', grad_fn=<NllLossBackward>)\n",
            "0 tensor(0.0089, device='cuda:0', grad_fn=<NllLossBackward>)\n",
            "0 tensor(0.0163, device='cuda:0', grad_fn=<NllLossBackward>)\n",
            "0 tensor(0.0095, device='cuda:0', grad_fn=<NllLossBackward>)\n",
            "0 tensor(0.0016, device='cuda:0', grad_fn=<NllLossBackward>)\n",
            "0 tensor(0.0027, device='cuda:0', grad_fn=<NllLossBackward>)\n",
            "0 tensor(0.0015, device='cuda:0', grad_fn=<NllLossBackward>)\n",
            "0 tensor(0.0016, device='cuda:0', grad_fn=<NllLossBackward>)\n",
            "0 tensor(0.0008, device='cuda:0', grad_fn=<NllLossBackward>)\n",
            "0 tensor(0.0007, device='cuda:0', grad_fn=<NllLossBackward>)\n",
            "0 tensor(0.0006, device='cuda:0', grad_fn=<NllLossBackward>)\n",
            "0 tensor(0.0005, device='cuda:0', grad_fn=<NllLossBackward>)\n",
            "0 tensor(0.0007, device='cuda:0', grad_fn=<NllLossBackward>)\n",
            "0 tensor(0.0006, device='cuda:0', grad_fn=<NllLossBackward>)\n",
            "0 tensor(0.0009, device='cuda:0', grad_fn=<NllLossBackward>)\n",
            "0 tensor(0.0007, device='cuda:0', grad_fn=<NllLossBackward>)\n",
            "0 tensor(0.0007, device='cuda:0', grad_fn=<NllLossBackward>)\n",
            "0 tensor(0.0006, device='cuda:0', grad_fn=<NllLossBackward>)\n",
            "0 tensor(0.0005, device='cuda:0', grad_fn=<NllLossBackward>)\n",
            "0 tensor(0.0004, device='cuda:0', grad_fn=<NllLossBackward>)\n",
            "0 tensor(0.0005, device='cuda:0', grad_fn=<NllLossBackward>)\n",
            "0 tensor(0.0003, device='cuda:0', grad_fn=<NllLossBackward>)\n",
            "0 tensor(0.0003, device='cuda:0', grad_fn=<NllLossBackward>)\n",
            "0 tensor(0.0007, device='cuda:0', grad_fn=<NllLossBackward>)\n",
            "0 tensor(0.0006, device='cuda:0', grad_fn=<NllLossBackward>)\n",
            "0 tensor(0.0003, device='cuda:0', grad_fn=<NllLossBackward>)\n",
            "0 tensor(0.0004, device='cuda:0', grad_fn=<NllLossBackward>)\n",
            "0 tensor(0.0002, device='cuda:0', grad_fn=<NllLossBackward>)\n",
            "0 tensor(0.0003, device='cuda:0', grad_fn=<NllLossBackward>)\n",
            "0 tensor(0.0003, device='cuda:0', grad_fn=<NllLossBackward>)\n",
            "0 tensor(0.0003, device='cuda:0', grad_fn=<NllLossBackward>)\n",
            "0 tensor(0.0004, device='cuda:0', grad_fn=<NllLossBackward>)\n",
            "0 tensor(0.0003, device='cuda:0', grad_fn=<NllLossBackward>)\n",
            "0 tensor(0.0002, device='cuda:0', grad_fn=<NllLossBackward>)\n",
            "0 tensor(0.0005, device='cuda:0', grad_fn=<NllLossBackward>)\n",
            "0 tensor(0.0002, device='cuda:0', grad_fn=<NllLossBackward>)\n",
            "0 tensor(0.0003, device='cuda:0', grad_fn=<NllLossBackward>)\n",
            "0 tensor(0.0004, device='cuda:0', grad_fn=<NllLossBackward>)\n",
            "0 tensor(0.0003, device='cuda:0', grad_fn=<NllLossBackward>)\n",
            "0 tensor(0.0001, device='cuda:0', grad_fn=<NllLossBackward>)\n"
          ],
          "name": "stdout"
        }
      ]
    },
    {
      "cell_type": "code",
      "metadata": {
        "id": "k04r53hI_80D",
        "colab": {
          "base_uri": "https://localhost:8080/"
        },
        "outputId": "7557d88e-c208-4e5b-f7cb-b94e44a3fb8f"
      },
      "source": [
        "model.eval()\n",
        "ComputeAccr(test_loader,model)"
      ],
      "execution_count": 6,
      "outputs": [
        {
          "output_type": "stream",
          "text": [
            "/usr/local/lib/python3.7/dist-packages/ipykernel_launcher.py:6: UserWarning: volatile was removed and now has no effect. Use `with torch.no_grad():` instead.\n",
            "  \n"
          ],
          "name": "stderr"
        },
        {
          "output_type": "stream",
          "text": [
            "Accuracy of Test Data: 77.02323913574219\n"
          ],
          "name": "stdout"
        }
      ]
    },
    {
      "cell_type": "code",
      "metadata": {
        "id": "QzSc0iJe_-E6"
      },
      "source": [
        "netname='./test.pkl'\n",
        "torch.save(model,netname, )"
      ],
      "execution_count": 7,
      "outputs": []
    }
  ]
}