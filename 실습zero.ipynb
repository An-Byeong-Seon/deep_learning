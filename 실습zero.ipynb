{
 "cells": [
  {
   "cell_type": "code",
   "execution_count": 1,
   "id": "arbitrary-translator",
   "metadata": {},
   "outputs": [
    {
     "name": "stdout",
     "output_type": "stream",
     "text": [
      "Hello.world\n",
      "정수: 3,03,003,0003,00003\n",
      "실수: 256,256.1,256.12\n",
      "문자열: [Hello, world]\n"
     ]
    }
   ],
   "source": [
    "print(\"Hello.world\")\n",
    "\n",
    "#integer\n",
    "x=3\n",
    "print(\"정수: %01d,%02d,%03d,%04d,%05d\"%(x,x,x,x,x))\n",
    "#float\n",
    "x=256.123\n",
    "print(\"실수: %.0f,%.1f,%.2f\"%(x,x,x))\n",
    "#string\n",
    "x=\"Hello, world\"\n",
    "print(\"문자열: [%s]\"%(x))"
   ]
  },
  {
   "cell_type": "code",
   "execution_count": 2,
   "id": "starting-recipient",
   "metadata": {},
   "outputs": [
    {
     "name": "stdout",
     "output_type": "stream",
     "text": [
      "Regression은(는) 기계학습 내용입니다.\n",
      "Classification은(는) 기계학습 내용입니다.\n",
      "SYM은(는) 기계학습 내용입니다.\n",
      "Clustering은(는) 기계학습 내용입니다.\n",
      "Demension reduction은(는) 기계학습 내용입니다.\n",
      "NN은(는) 심층학습 내용입니다.\n",
      "CNN은(는) convolutuinal neural network입니다.\n",
      "AE은(는) 심층학습 내용입니다.\n",
      "GAN은(는) 심층학습 내용입니다.\n",
      "RNN은(는) 심층학습 내용입니다.\n"
     ]
    }
   ],
   "source": [
    "contents=[\"Regression\",\"Classification\",\"SYM\",\"Clustering\",\"Demension reduction\",\"NN\",\"CNN\",\"AE\",\"GAN\",\"RNN\"]\n",
    "for con in contents:\n",
    "    if con in [\"Regression\",\"Classification\",\"SYM\",\"Clustering\",\"Demension reduction\"]:\n",
    "        print(\"%s은(는) 기계학습 내용입니다.\" %con)\n",
    "    elif con in [\"CNN\"]:\n",
    "        print(\"%s은(는) convolutuinal neural network입니다.\" %con)\n",
    "    else:\n",
    "        print(\"%s은(는) 심층학습 내용입니다.\" %con)"
   ]
  },
  {
   "cell_type": "code",
   "execution_count": 3,
   "id": "associate-african",
   "metadata": {},
   "outputs": [
    {
     "name": "stdout",
     "output_type": "stream",
     "text": [
      "[0/10]: Regression\n",
      "[1/10]: Classification\n",
      "[2/10]: SYM\n",
      "[3/10]: Clustering\n",
      "[4/10]: Demension reduction\n",
      "[5/10]: NN\n",
      "[6/10]: CNN\n",
      "[7/10]: AE\n",
      "[8/10]: GAN\n",
      "[9/10]: RNN\n"
     ]
    }
   ],
   "source": [
    "for (i,con) in enumerate(contents):\n",
    "    print(\"[%d/%d]: %s\" %(i, len(contents),con))"
   ]
  },
  {
   "cell_type": "code",
   "execution_count": 4,
   "id": "close-museum",
   "metadata": {},
   "outputs": [
    {
     "name": "stdout",
     "output_type": "stream",
     "text": [
      "10.0+20.0=30.0\n"
     ]
    }
   ],
   "source": [
    "def sum(a,b):\n",
    "    return a+b\n",
    "x=10.0\n",
    "y=20.0\n",
    "print(\"%.1f+%.1f=%.1f\"%(x,y,sum(x,y)))"
   ]
  },
  {
   "cell_type": "code",
   "execution_count": 5,
   "id": "chemical-enforcement",
   "metadata": {},
   "outputs": [
    {
     "name": "stdout",
     "output_type": "stream",
     "text": [
      "[]\n",
      "['a']\n",
      "['a', 123]\n",
      "['a', 123, ['a', 'b']]\n"
     ]
    }
   ],
   "source": [
    "a=[]\n",
    "b=[1,2,3]\n",
    "c=[\"Hello\",\",\",\"world\"]\n",
    "d=[1,2,3,\"x\",\"y\",\"z\"]\n",
    "x=[]\n",
    "print(x)\n",
    "x.append('a')\n",
    "print(x)\n",
    "x.append(123)\n",
    "print(x)\n",
    "x.append([\"a\",\"b\"])\n",
    "print x"
   ]
  },
  {
   "cell_type": "code",
   "execution_count": 6,
   "id": "chubby-burlington",
   "metadata": {},
   "outputs": [
    {
     "name": "stdout",
     "output_type": "stream",
     "text": [
      "{'town': 'Goyang city', 'job': 'Assistant professor', 'name': 'Heekyung'}\n"
     ]
    }
   ],
   "source": [
    "dic=dict()\n",
    "dic[\"name\"]=\"Heekyung\"\n",
    "dic[\"town\"]=\"Goyang city\"\n",
    "dic[\"job\"]=\"Assistant professor\"\n",
    "print dic"
   ]
  },
  {
   "cell_type": "code",
   "execution_count": 7,
   "id": "stone-fishing",
   "metadata": {},
   "outputs": [
    {
     "name": "stdout",
     "output_type": "stream",
     "text": [
      "Heekyung 학생은 공부합니다.\n",
      "Heekyung 학생은 열심히 공부합니다.\n"
     ]
    }
   ],
   "source": [
    "class Student:\n",
    "    #생성자\n",
    "    def __init__(self,name):\n",
    "        self.name=name\n",
    "    #매써드\n",
    "    def study(self, hard=False):\n",
    "        if hard:\n",
    "            print \"%s 학생은 열심히 공부합니다.\" %self.name\n",
    "        else:\n",
    "            print \"%s 학생은 공부합니다.\" %self.name\n",
    "s=Student('Heekyung')\n",
    "s.study()\n",
    "s.study(hard=True)"
   ]
  },
  {
   "cell_type": "code",
   "execution_count": 8,
   "id": "continuing-reach",
   "metadata": {},
   "outputs": [],
   "source": [
    "import numpy as np"
   ]
  },
  {
   "cell_type": "code",
   "execution_count": 9,
   "id": "supreme-clearance",
   "metadata": {},
   "outputs": [],
   "source": [
    "def print_val(x):\n",
    "    print \"Type:\",type(x)\n",
    "    print \"Shape\",x.shape\n",
    "    print \"값:\\n\",x\n",
    "    print \" \""
   ]
  },
  {
   "cell_type": "code",
   "execution_count": 10,
   "id": "under-amount",
   "metadata": {},
   "outputs": [
    {
     "name": "stdout",
     "output_type": "stream",
     "text": [
      "Type: <type 'numpy.ndarray'>\n",
      "Shape (3,)\n",
      "값:\n",
      "[1 2 3]\n",
      " \n",
      "Type: <type 'numpy.ndarray'>\n",
      "Shape (3,)\n",
      "값:\n",
      "[5 2 3]\n",
      " \n"
     ]
    }
   ],
   "source": [
    "x=np.array([1,2,3])\n",
    "print_val(x)\n",
    "\n",
    "x[0]=5\n",
    "print_val(x)"
   ]
  },
  {
   "cell_type": "code",
   "execution_count": 11,
   "id": "destroyed-disabled",
   "metadata": {},
   "outputs": [
    {
     "name": "stdout",
     "output_type": "stream",
     "text": [
      "Type: <type 'numpy.ndarray'>\n",
      "Shape (2, 3)\n",
      "값:\n",
      "[[1 2 3]\n",
      " [4 5 6]]\n",
      " \n"
     ]
    }
   ],
   "source": [
    "y=np.array([[1,2,3],[4,5,6]])\n",
    "print_val(y)"
   ]
  },
  {
   "cell_type": "code",
   "execution_count": 12,
   "id": "centered-requirement",
   "metadata": {},
   "outputs": [
    {
     "name": "stdout",
     "output_type": "stream",
     "text": [
      "Type: <type 'numpy.ndarray'>\n",
      "Shape (2, 2)\n",
      "값:\n",
      "[[0. 0.]\n",
      " [0. 0.]]\n",
      " \n"
     ]
    }
   ],
   "source": [
    "a=np.zeros((2,2))\n",
    "print_val(a)"
   ]
  },
  {
   "cell_type": "code",
   "execution_count": 13,
   "id": "palestinian-estimate",
   "metadata": {},
   "outputs": [
    {
     "name": "stdout",
     "output_type": "stream",
     "text": [
      "Type: <type 'numpy.ndarray'>\n",
      "Shape (3, 2)\n",
      "값:\n",
      "[[1. 1.]\n",
      " [1. 1.]\n",
      " [1. 1.]]\n",
      " \n"
     ]
    }
   ],
   "source": [
    "a=np.ones((3,2))\n",
    "print_val(a)"
   ]
  },
  {
   "cell_type": "code",
   "execution_count": 14,
   "id": "usual-measure",
   "metadata": {},
   "outputs": [
    {
     "name": "stdout",
     "output_type": "stream",
     "text": [
      "Type: <type 'numpy.ndarray'>\n",
      "Shape (3, 3)\n",
      "값:\n",
      "[[1. 0. 0.]\n",
      " [0. 1. 0.]\n",
      " [0. 0. 1.]]\n",
      " \n"
     ]
    }
   ],
   "source": [
    "a=np.eye(3,3)\n",
    "print_val(a)"
   ]
  },
  {
   "cell_type": "code",
   "execution_count": 15,
   "id": "diagnostic-fifty",
   "metadata": {},
   "outputs": [
    {
     "name": "stdout",
     "output_type": "stream",
     "text": [
      "Type: <type 'numpy.ndarray'>\n",
      "Shape (4, 4)\n",
      "값:\n",
      "[[0.01368439 0.02242435 0.74520931 0.12917566]\n",
      " [0.60722611 0.64559229 0.09594915 0.86173946]\n",
      " [0.81362656 0.93944969 0.45230721 0.23380197]\n",
      " [0.38203656 0.81428401 0.00840845 0.75806286]]\n",
      " \n"
     ]
    }
   ],
   "source": [
    "a=np.random.random((4,4))\n",
    "print_val(a)"
   ]
  },
  {
   "cell_type": "code",
   "execution_count": 16,
   "id": "after-shipping",
   "metadata": {},
   "outputs": [
    {
     "name": "stdout",
     "output_type": "stream",
     "text": [
      "Type: <type 'numpy.ndarray'>\n",
      "Shape (4, 4)\n",
      "값:\n",
      "[[-0.62102388 -0.90319015 -0.9204646   0.3796133 ]\n",
      " [-1.4822789   0.13063614 -0.36245122  0.10923732]\n",
      " [ 0.43164192 -0.47800561  0.97558786  0.56073395]\n",
      " [-0.84833691 -0.37911014  0.53677539 -0.86583469]]\n",
      " \n"
     ]
    }
   ],
   "source": [
    "a=np.random.randn(4,4)\n",
    "print_val(a)"
   ]
  },
  {
   "cell_type": "code",
   "execution_count": 17,
   "id": "comic-travel",
   "metadata": {},
   "outputs": [
    {
     "name": "stdout",
     "output_type": "stream",
     "text": [
      "Type: <type 'numpy.ndarray'>\n",
      "Shape (3, 4)\n",
      "값:\n",
      "[[ 1  2  3  4]\n",
      " [ 5  6  7  8]\n",
      " [ 9 10 11 12]]\n",
      " \n"
     ]
    }
   ],
   "source": [
    "a=np.array([[1,2,3,4],[5,6,7,8],[9,10,11,12]])\n",
    "print_val(a)"
   ]
  },
  {
   "cell_type": "code",
   "execution_count": 18,
   "id": "induced-three",
   "metadata": {},
   "outputs": [
    {
     "name": "stdout",
     "output_type": "stream",
     "text": [
      "Type: <type 'numpy.ndarray'>\n",
      "Shape (2, 2)\n",
      "값:\n",
      "[[2 3]\n",
      " [6 7]]\n",
      " \n"
     ]
    }
   ],
   "source": [
    "b=a[:2,1:3]\n",
    "print_val(b)"
   ]
  },
  {
   "cell_type": "code",
   "execution_count": 19,
   "id": "impaired-polymer",
   "metadata": {},
   "outputs": [
    {
     "name": "stdout",
     "output_type": "stream",
     "text": [
      "Type: <type 'numpy.ndarray'>\n",
      "Shape (4,)\n",
      "값:\n",
      "[5 6 7 8]\n",
      " \n"
     ]
    }
   ],
   "source": [
    "row1=a[1,:]\n",
    "print_val(row1)"
   ]
  },
  {
   "cell_type": "code",
   "execution_count": 20,
   "id": "secure-sauce",
   "metadata": {},
   "outputs": [],
   "source": [
    "m1=np.array([[1,2],[3,4]],dtype=np.float64)\n",
    "m2=np.array([[5,6],[7,8]],dtype=np.float64)"
   ]
  },
  {
   "cell_type": "code",
   "execution_count": 21,
   "id": "complete-smell",
   "metadata": {
    "scrolled": true
   },
   "outputs": [
    {
     "name": "stdout",
     "output_type": "stream",
     "text": [
      "Type: <type 'numpy.ndarray'>\n",
      "Shape (2, 2)\n",
      "값:\n",
      "[[ 6.  8.]\n",
      " [10. 12.]]\n",
      " \n",
      "Type: <type 'numpy.ndarray'>\n",
      "Shape (2, 2)\n",
      "값:\n",
      "[[ 6.  8.]\n",
      " [10. 12.]]\n",
      " \n"
     ]
    }
   ],
   "source": [
    "#elementwise sum\n",
    "print_val(m1+m2)\n",
    "print_val(np.add(m1,m2))"
   ]
  },
  {
   "cell_type": "code",
   "execution_count": 22,
   "id": "stuffed-polls",
   "metadata": {},
   "outputs": [
    {
     "name": "stdout",
     "output_type": "stream",
     "text": [
      "Type: <type 'numpy.ndarray'>\n",
      "Shape (2, 2)\n",
      "값:\n",
      "[[-4. -4.]\n",
      " [-4. -4.]]\n",
      " \n",
      "Type: <type 'numpy.ndarray'>\n",
      "Shape (2, 2)\n",
      "값:\n",
      "[[-4. -4.]\n",
      " [-4. -4.]]\n",
      " \n"
     ]
    }
   ],
   "source": [
    "#elementwise difference\n",
    "print_val(m1-m2)\n",
    "print_val(np.subtract(m1,m2))"
   ]
  },
  {
   "cell_type": "code",
   "execution_count": 23,
   "id": "sufficient-coaching",
   "metadata": {},
   "outputs": [
    {
     "name": "stdout",
     "output_type": "stream",
     "text": [
      "Type: <type 'numpy.ndarray'>\n",
      "Shape (2, 2)\n",
      "값:\n",
      "[[ 5. 12.]\n",
      " [21. 32.]]\n",
      " \n",
      "Type: <type 'numpy.ndarray'>\n",
      "Shape (2, 2)\n",
      "값:\n",
      "[[ 5. 12.]\n",
      " [21. 32.]]\n",
      " \n"
     ]
    }
   ],
   "source": [
    "#elementwise priduct\n",
    "print_val(m1*m2)\n",
    "print_val(np.multiply(m1,m2))"
   ]
  },
  {
   "cell_type": "code",
   "execution_count": 24,
   "id": "contemporary-employee",
   "metadata": {
    "scrolled": true
   },
   "outputs": [
    {
     "name": "stdout",
     "output_type": "stream",
     "text": [
      "Type: <type 'numpy.ndarray'>\n",
      "Shape (2, 2)\n",
      "값:\n",
      "[[0.2        0.33333333]\n",
      " [0.42857143 0.5       ]]\n",
      " \n",
      "Type: <type 'numpy.ndarray'>\n",
      "Shape (2, 2)\n",
      "값:\n",
      "[[0.2        0.33333333]\n",
      " [0.42857143 0.5       ]]\n",
      " \n"
     ]
    }
   ],
   "source": [
    "#elementwise division\n",
    "print_val(m1/m2)\n",
    "print_val(np.divide(m1,m2))"
   ]
  },
  {
   "cell_type": "code",
   "execution_count": 25,
   "id": "demographic-mixer",
   "metadata": {},
   "outputs": [
    {
     "name": "stdout",
     "output_type": "stream",
     "text": [
      "Type: <type 'numpy.ndarray'>\n",
      "Shape (2, 2)\n",
      "값:\n",
      "[[1.         1.41421356]\n",
      " [1.73205081 2.        ]]\n",
      " \n"
     ]
    }
   ],
   "source": [
    "#elementwise square root\n",
    "print_val(np.sqrt(m1))"
   ]
  },
  {
   "cell_type": "code",
   "execution_count": 26,
   "id": "killing-sussex",
   "metadata": {},
   "outputs": [
    {
     "name": "stdout",
     "output_type": "stream",
     "text": [
      "Type: <type 'numpy.ndarray'>\n",
      "Shape (2, 2)\n",
      "값:\n",
      "[[1 2]\n",
      " [3 4]]\n",
      " \n",
      "Type: <type 'numpy.ndarray'>\n",
      "Shape (2, 2)\n",
      "값:\n",
      "[[5 6]\n",
      " [7 8]]\n",
      " \n",
      "Type: <type 'numpy.ndarray'>\n",
      "Shape (2,)\n",
      "값:\n",
      "[ 9 10]\n",
      " \n",
      "Type: <type 'numpy.ndarray'>\n",
      "Shape (2,)\n",
      "값:\n",
      "[11 12]\n",
      " \n"
     ]
    }
   ],
   "source": [
    "m1=np.array([[1,2],[3,4]])\n",
    "m2=np.array([[5,6],[7,8]])\n",
    "v1=np.array([9,10])\n",
    "v2=np.array([11,12])\n",
    "print_val(m1)\n",
    "print_val(m2)\n",
    "print_val(v1)\n",
    "print_val(v2)"
   ]
  },
  {
   "cell_type": "code",
   "execution_count": 27,
   "id": "variable-toilet",
   "metadata": {},
   "outputs": [
    {
     "name": "stdout",
     "output_type": "stream",
     "text": [
      "Type: <type 'numpy.int64'>\n",
      "Shape ()\n",
      "값:\n",
      "219\n",
      " \n",
      "Type: <type 'numpy.int64'>\n",
      "Shape ()\n",
      "값:\n",
      "219\n",
      " \n"
     ]
    }
   ],
   "source": [
    "print_val(v1.dot(v2))\n",
    "print_val(np.dot(v1,v2))"
   ]
  },
  {
   "cell_type": "code",
   "execution_count": 28,
   "id": "rough-camcorder",
   "metadata": {},
   "outputs": [
    {
     "name": "stdout",
     "output_type": "stream",
     "text": [
      "Type: <type 'numpy.ndarray'>\n",
      "Shape (2,)\n",
      "값:\n",
      "[29 67]\n",
      " \n",
      "Type: <type 'numpy.ndarray'>\n",
      "Shape (2,)\n",
      "값:\n",
      "[29 67]\n",
      " \n"
     ]
    }
   ],
   "source": [
    "print_val(m1.dot(v1))\n",
    "print_val(np.dot(m1,v1))"
   ]
  },
  {
   "cell_type": "code",
   "execution_count": 29,
   "id": "original-rocket",
   "metadata": {},
   "outputs": [
    {
     "name": "stdout",
     "output_type": "stream",
     "text": [
      "Type: <type 'numpy.ndarray'>\n",
      "Shape (2, 2)\n",
      "값:\n",
      "[[19 22]\n",
      " [43 50]]\n",
      " \n",
      "Type: <type 'numpy.ndarray'>\n",
      "Shape (2, 2)\n",
      "값:\n",
      "[[19 22]\n",
      " [43 50]]\n",
      " \n"
     ]
    }
   ],
   "source": [
    "print_val(m1.dot(m2))\n",
    "print_val(np.dot(m1,m2))"
   ]
  },
  {
   "cell_type": "code",
   "execution_count": 30,
   "id": "excellent-friend",
   "metadata": {},
   "outputs": [
    {
     "name": "stdout",
     "output_type": "stream",
     "text": [
      "Type: <type 'numpy.ndarray'>\n",
      "Shape (2, 2)\n",
      "값:\n",
      "[[1 2]\n",
      " [3 4]]\n",
      " \n",
      "Type: <type 'numpy.ndarray'>\n",
      "Shape (2, 2)\n",
      "값:\n",
      "[[1 3]\n",
      " [2 4]]\n",
      " \n"
     ]
    }
   ],
   "source": [
    "print_val(m1)\n",
    "print_val(m1.T)"
   ]
  },
  {
   "cell_type": "code",
   "execution_count": 31,
   "id": "irish-imperial",
   "metadata": {},
   "outputs": [
    {
     "name": "stdout",
     "output_type": "stream",
     "text": [
      "Type: <type 'numpy.int64'>\n",
      "Shape ()\n",
      "값:\n",
      "10\n",
      " \n",
      "Type: <type 'numpy.ndarray'>\n",
      "Shape (2,)\n",
      "값:\n",
      "[4 6]\n",
      " \n",
      "Type: <type 'numpy.ndarray'>\n",
      "Shape (2,)\n",
      "값:\n",
      "[3 7]\n",
      " \n"
     ]
    }
   ],
   "source": [
    "print_val(np.sum(m1))\n",
    "print_val(np.sum(m1,axis=0))\n",
    "print_val(np.sum(m1,axis=1))"
   ]
  },
  {
   "cell_type": "code",
   "execution_count": 32,
   "id": "latter-ideal",
   "metadata": {},
   "outputs": [
    {
     "name": "stdout",
     "output_type": "stream",
     "text": [
      "[[1 2 3]\n",
      " [4 5 6]]\n",
      "(2, 3)\n"
     ]
    }
   ],
   "source": [
    "m1=np.array([[1,2,3],[4,5,6]])\n",
    "print m1\n",
    "print m1.shape"
   ]
  },
  {
   "cell_type": "code",
   "execution_count": 33,
   "id": "every-rabbit",
   "metadata": {},
   "outputs": [
    {
     "name": "stdout",
     "output_type": "stream",
     "text": [
      "Type: <type 'numpy.ndarray'>\n",
      "Shape (4, 3)\n",
      "값:\n",
      "[[ 1  2  3]\n",
      " [ 4  5  6]\n",
      " [ 7  8  9]\n",
      " [10 11 12]]\n",
      " \n",
      "Type: <type 'numpy.ndarray'>\n",
      "Shape (4, 3)\n",
      "값:\n",
      "[[0 0 0]\n",
      " [0 0 0]\n",
      " [0 0 0]\n",
      " [0 0 0]]\n",
      " \n"
     ]
    }
   ],
   "source": [
    "m1=np.array([[1,2,3],[4,5,6],[7,8,9],[10,11,12]])\n",
    "m2=np.zeros_like(m1)\n",
    "print_val(m1)\n",
    "print_val(m2)"
   ]
  },
  {
   "cell_type": "code",
   "execution_count": 34,
   "id": "radio-firmware",
   "metadata": {},
   "outputs": [],
   "source": [
    "import matplotlib.pyplot as plt\n",
    "%matplotlib inline"
   ]
  },
  {
   "cell_type": "code",
   "execution_count": 35,
   "id": "protected-stone",
   "metadata": {},
   "outputs": [
    {
     "data": {
      "text/plain": [
       "[<matplotlib.lines.Line2D at 0x7fdb61451990>]"
      ]
     },
     "execution_count": 35,
     "metadata": {},
     "output_type": "execute_result"
    },
    {
     "data": {
      "image/png": "[encoded data removed]",
      "text/plain": [
       "<Figure size 432x288 with 1 Axes>"
      ]
     },
     "metadata": {
      "needs_background": "light"
     },
     "output_type": "display_data"
    }
   ],
   "source": [
    "x=np.arange(0,10,0.1)\n",
    "y=np.sin(x)\n",
    "plt.plot(x,y)"
   ]
  },
  {
   "cell_type": "code",
   "execution_count": 36,
   "id": "remarkable-cancellation",
   "metadata": {},
   "outputs": [
    {
     "data": {
      "image/png": "[encoded data removed]",
      "text/plain": [
       "<Figure size 432x288 with 1 Axes>"
      ]
     },
     "metadata": {
      "needs_background": "light"
     },
     "output_type": "display_data"
    }
   ],
   "source": [
    "y_sin=np.sin(x)\n",
    "y_cos=np.cos(x)\n",
    "plt.plot(x,y_sin)\n",
    "plt.plot(x,y_cos)\n",
    "plt.xlabel('x axis label')\n",
    "plt.ylabel('y axis label')\n",
    "plt.title('sin and cos')\n",
    "plt.legend(['sin','cos'])\n",
    "plt.show()"
   ]
  },
  {
   "cell_type": "code",
   "execution_count": 37,
   "id": "julian-arrival",
   "metadata": {},
   "outputs": [
    {
     "data": {
      "image/png": "[encoded data removed]",
      "text/plain": [
       "<Figure size 432x288 with 2 Axes>"
      ]
     },
     "metadata": {
      "needs_background": "light"
     },
     "output_type": "display_data"
    }
   ],
   "source": [
    "plt.subplot(2,1,1)\n",
    "plt.plot(x,y_sin)\n",
    "plt.title('sin')\n",
    "plt.subplot(2,1,2)\n",
    "plt.plot(x,y_cos)\n",
    "plt.title('cos')\n",
    "plt.show()"
   ]
  },
  {
   "cell_type": "code",
   "execution_count": 38,
   "id": "foster-original",
   "metadata": {},
   "outputs": [],
   "source": [
    "import torch"
   ]
  },
  {
   "cell_type": "code",
   "execution_count": 39,
   "id": "technological-webster",
   "metadata": {},
   "outputs": [
    {
     "name": "stdout",
     "output_type": "stream",
     "text": [
      "Type: <class 'torch.Tensor'>\n",
      "Shape torch.Size([2, 3, 2])\n",
      "값:\n",
      "tensor([[[0.2690, 0.9083],\n",
      "         [0.4851, 0.2872],\n",
      "         [0.3352, 0.8148]],\n",
      "\n",
      "        [[0.2358, 0.7881],\n",
      "         [0.5436, 0.6376],\n",
      "         [0.1624, 0.1804]]])\n",
      " \n",
      "Type: <class 'torch.Tensor'>\n",
      "Shape torch.Size([2, 3])\n",
      "값:\n",
      "tensor([[ 0.7211,  0.8001, -1.2688],\n",
      "        [-0.7979, -0.9760,  1.1494]])\n",
      " \n"
     ]
    }
   ],
   "source": [
    "x= torch.rand(2,3,2)\n",
    "print_val(x)\n",
    "x=torch.randn(2,3)\n",
    "print_val(x)"
   ]
  },
  {
   "cell_type": "code",
   "execution_count": 40,
   "id": "surprising-presence",
   "metadata": {},
   "outputs": [
    {
     "name": "stdout",
     "output_type": "stream",
     "text": [
      "Type: <class 'torch.Tensor'>\n",
      "Shape torch.Size([4])\n",
      "값:\n",
      "tensor([3, 2, 1, 0])\n",
      " \n"
     ]
    }
   ],
   "source": [
    "x=torch.randperm(4)\n",
    "print_val(x)"
   ]
  },
  {
   "cell_type": "code",
   "execution_count": 41,
   "id": "bearing-bidder",
   "metadata": {},
   "outputs": [
    {
     "name": "stdout",
     "output_type": "stream",
     "text": [
      "Type: <class 'torch.Tensor'>\n",
      "Shape torch.Size([6])\n",
      "값:\n",
      "tensor([0.0000, 0.5000, 1.0000, 1.5000, 2.0000, 2.5000])\n",
      " \n"
     ]
    }
   ],
   "source": [
    "x=torch.arange(0,3,step=0.5)\n",
    "print_val(x)"
   ]
  },
  {
   "cell_type": "code",
   "execution_count": 42,
   "id": "studied-profile",
   "metadata": {},
   "outputs": [
    {
     "name": "stdout",
     "output_type": "stream",
     "text": [
      "Type: <class 'torch.Tensor'>\n",
      "Shape torch.Size([3, 4])\n",
      "값:\n",
      "tensor([[1., 1., 1., 1.],\n",
      "        [1., 1., 1., 1.],\n",
      "        [1., 1., 1., 1.]])\n",
      " \n",
      "Type: <class 'torch.Tensor'>\n",
      "Shape torch.Size([3, 4])\n",
      "값:\n",
      "tensor([[0., 0., 0., 0.],\n",
      "        [0., 0., 0., 0.],\n",
      "        [0., 0., 0., 0.]])\n",
      " \n"
     ]
    }
   ],
   "source": [
    "print_val(torch.ones(3,4))\n",
    "print_val(torch.zeros(3,4))"
   ]
  },
  {
   "cell_type": "code",
   "execution_count": 43,
   "id": "detailed-canvas",
   "metadata": {},
   "outputs": [
    {
     "name": "stdout",
     "output_type": "stream",
     "text": [
      "Type: <class 'torch.Tensor'>\n",
      "Shape torch.Size([2, 4])\n",
      "값:\n",
      "tensor([[-1.1953e-25,  4.5866e-41, -5.3460e+14,  3.0737e-41],\n",
      "        [-4.5394e+14,  3.0737e-41, -8.6815e-26,  4.5866e-41]])\n",
      " \n"
     ]
    }
   ],
   "source": [
    "print_val(torch.Tensor(2,4))"
   ]
  },
  {
   "cell_type": "code",
   "execution_count": 44,
   "id": "weighted-moscow",
   "metadata": {},
   "outputs": [
    {
     "name": "stdout",
     "output_type": "stream",
     "text": [
      "Type: <class 'torch.Tensor'>\n",
      "Shape torch.Size([2])\n",
      "값:\n",
      "tensor([2., 3.])\n",
      " \n",
      "Type: <class 'torch.Tensor'>\n",
      "Shape torch.Size([2, 2])\n",
      "값:\n",
      "tensor([[2., 3.],\n",
      "        [3., 4.]])\n",
      " \n"
     ]
    }
   ],
   "source": [
    "print_val(torch.Tensor([2,3]))\n",
    "print_val(torch.Tensor([[2,3],[3,4]]))"
   ]
  },
  {
   "cell_type": "code",
   "execution_count": 46,
   "id": "abroad-intention",
   "metadata": {},
   "outputs": [
    {
     "name": "stdout",
     "output_type": "stream",
     "text": [
      "Type: <class 'torch.Tensor'>\n",
      "Shape torch.Size([2, 3])\n",
      "값:\n",
      "tensor([[ 2.1105e+20,  4.5866e-41,  1.9141e+20],\n",
      "        [ 4.5866e-41, -1.0283e-31,  4.5866e-41]])\n",
      " \n",
      "Type: <class 'torch.Tensor'>\n",
      "Shape torch.Size([2, 3])\n",
      "값:\n",
      "tensor([[-2147483648,           0, -2147483648],\n",
      "        [          0,           0,           0]], dtype=torch.int32)\n",
      " \n"
     ]
    }
   ],
   "source": [
    "x=torch.FloatTensor(2,3)\n",
    "print_val(x)\n",
    "x=x.type_as(torch.IntTensor())\n",
    "print_val(x)"
   ]
  },
  {
   "cell_type": "code",
   "execution_count": 47,
   "id": "complimentary-sudan",
   "metadata": {},
   "outputs": [
    {
     "data": {
      "text/plain": [
       "torch.Size([3, 4, 5])"
      ]
     },
     "execution_count": 47,
     "metadata": {},
     "output_type": "execute_result"
    }
   ],
   "source": [
    "torch.FloatTensor(3,4,5).size()"
   ]
  },
  {
   "cell_type": "code",
   "execution_count": 48,
   "id": "native-outline",
   "metadata": {},
   "outputs": [
    {
     "name": "stdout",
     "output_type": "stream",
     "text": [
      "Type: <type 'numpy.ndarray'>\n",
      "Shape (2, 3)\n",
      "값:\n",
      "[[4625534587281552180 4625534587281552180 4625534587281552180]\n",
      " [4625534587281552180 4625534587281552180 4625534587281552180]]\n",
      " \n",
      "Type: <class 'torch.Tensor'>\n",
      "Shape torch.Size([2, 3])\n",
      "값:\n",
      "tensor([[4625534587281552180, 4625534587281552180, 4625534587281552180],\n",
      "        [4625534587281552180, 4625534587281552180, 4625534587281552180]])\n",
      " \n"
     ]
    }
   ],
   "source": [
    "import numpy as np\n",
    "np_x=np.ndarray((2,3),dtype=int)\n",
    "print_val(np_x)\n",
    "x=torch.from_numpy(np_x)\n",
    "print_val(x)"
   ]
  },
  {
   "cell_type": "code",
   "execution_count": 49,
   "id": "proved-midwest",
   "metadata": {},
   "outputs": [],
   "source": [
    "import torchvision.datasets as dset\n",
    "import torchvision.transforms as transforms\n",
    "from torch.utils.data import DataLoader\n",
    "from torch.autograd import Variable\n",
    "import matplotlib.pyplot as plt\n",
    "%matplotlib inline"
   ]
  },
  {
   "cell_type": "code",
   "execution_count": 50,
   "id": "naked-property",
   "metadata": {},
   "outputs": [
    {
     "name": "stdout",
     "output_type": "stream",
     "text": [
      "torch.Size([1, 28, 28]) 5\n",
      "torch.Size([1, 28, 28]) 0\n",
      "60000\n",
      "mnist_train 길이: 60000\n",
      "5\n",
      "torch.Size([1, 28, 28])\n"
     ]
    },
    {
     "data": {
      "image/png": "[encoded data removed]",
      "text/plain": [
       "<Figure size 432x288 with 1 Axes>"
      ]
     },
     "metadata": {
      "needs_background": "light"
     },
     "output_type": "display_data"
    },
    {
     "data": {
      "image/png": "[encoded data removed]",
      "text/plain": [
       "<Figure size 432x288 with 1 Axes>"
      ]
     },
     "metadata": {
      "needs_background": "light"
     },
     "output_type": "display_data"
    },
    {
     "data": {
      "image/png": "[encoded data removed]",
      "text/plain": [
       "<Figure size 432x288 with 1 Axes>"
      ]
     },
     "metadata": {
      "needs_background": "light"
     },
     "output_type": "display_data"
    }
   ],
   "source": [
    "mnist_train=dset.MNIST(\"\",train=True,transform=transforms.ToTensor(),target_transform=None,download=True)\n",
    "\n",
    "image,label=mnist_train.__getitem__(0)\n",
    "print image.size(),label\n",
    "image,label=mnist_train[1]\n",
    "print image.size(),label\n",
    "print mnist_train.__len__()\n",
    "print \"mnist_train 길이:\",len(mnist_train)\n",
    "print mnist_train[0][1]\n",
    "print mnist_train[0][0].size()\n",
    "for i in range(3):\n",
    "    img=mnist_train[i][0].numpy()\n",
    "    plt.title(\"label: %d\" %mnist_train[i][1])\n",
    "    plt.imshow(img[0],cmap='gray')\n",
    "    plt.show()"
   ]
  },
  {
   "cell_type": "code",
   "execution_count": 52,
   "id": "mechanical-python",
   "metadata": {},
   "outputs": [],
   "source": [
    "mnist_train=dset.MNIST(\"\",train=True,transform=transforms.ToTensor(),target_transform=None,download=True)\n",
    "mnist_test=dset.MNIST(\"\",train=False,transform=transforms.ToTensor(),target_transform=None,download=True)"
   ]
  },
  {
   "cell_type": "code",
   "execution_count": 54,
   "id": "happy-marker",
   "metadata": {},
   "outputs": [
    {
     "name": "stdout",
     "output_type": "stream",
     "text": [
      "mnist_train 길이: 60000\n",
      "mnist_test 길이: 10000\n",
      "image dat 형태: torch.Size([1, 28, 28])\n",
      "label: 5\n"
     ]
    },
    {
     "data": {
      "image/png": "[encoded data removed]",
      "text/plain": [
       "<Figure size 432x288 with 1 Axes>"
      ]
     },
     "metadata": {
      "needs_background": "light"
     },
     "output_type": "display_data"
    }
   ],
   "source": [
    "print \"mnist_train 길이:\",len(mnist_train)\n",
    "print \"mnist_test 길이:\",len(mnist_test)\n",
    "image,label=mnist_train.__getitem__(0)\n",
    "print \"image dat 형태:\", image.size()\n",
    "print \"label:\",label\n",
    "img=image.numpy()\n",
    "plt.title(\"label: %d\" %label)\n",
    "plt.imshow(img[0],cmap='gray')\n",
    "plt.show()"
   ]
  },
  {
   "cell_type": "code",
   "execution_count": 55,
   "id": "durable-prospect",
   "metadata": {},
   "outputs": [],
   "source": [
    "batch_size=16"
   ]
  },
  {
   "cell_type": "code",
   "execution_count": 59,
   "id": "herbal-template",
   "metadata": {},
   "outputs": [],
   "source": [
    "train_loader=torch.utils.data.DataLoader(list(mnist_train)[:batch_size*100],batch_size=batch_size,shuffle=True,num_workers=2,drop_last=True)\n",
    "test_loader=torch.utils.data.DataLoader(list(mnist_train)[:batch_size*100],batch_size=batch_size,shuffle=True,num_workers=2,drop_last=True)"
   ]
  },
  {
   "cell_type": "code",
   "execution_count": 60,
   "id": "naughty-series",
   "metadata": {},
   "outputs": [
    {
     "name": "stdout",
     "output_type": "stream",
     "text": [
      "[0]\n",
      "한번에 로드되는 데이터 크기: 16\n",
      "torch.Size([16, 28, 28])\n",
      "torch.Size([16])\n"
     ]
    },
    {
     "data": {
      "image/png": "[encoded data removed]",
      "text/plain": [
       "<Figure size 432x288 with 3 Axes>"
      ]
     },
     "metadata": {
      "needs_background": "light"
     },
     "output_type": "display_data"
    },
    {
     "name": "stdout",
     "output_type": "stream",
     "text": [
      "[1]\n",
      "한번에 로드되는 데이터 크기: 16\n",
      "torch.Size([16, 28, 28])\n",
      "torch.Size([16])\n"
     ]
    },
    {
     "data": {
      "image/png": "[encoded data removed]",
      "text/plain": [
       "<Figure size 432x288 with 3 Axes>"
      ]
     },
     "metadata": {
      "needs_background": "light"
     },
     "output_type": "display_data"
    },
    {
     "name": "stdout",
     "output_type": "stream",
     "text": [
      "[2]\n",
      "한번에 로드되는 데이터 크기: 16\n",
      "torch.Size([16, 28, 28])\n",
      "torch.Size([16])\n"
     ]
    },
    {
     "data": {
      "image/png": "[encoded data removed]",
      "text/plain": [
       "<Figure size 432x288 with 3 Axes>"
      ]
     },
     "metadata": {
      "needs_background": "light"
     },
     "output_type": "display_data"
    },
    {
     "name": "stdout",
     "output_type": "stream",
     "text": [
      "[3]\n",
      "한번에 로드되는 데이터 크기: 16\n",
      "torch.Size([16, 28, 28])\n",
      "torch.Size([16])\n"
     ]
    },
    {
     "data": {
      "image/png": "[encoded data removed]",
      "text/plain": [
       "<Figure size 432x288 with 3 Axes>"
      ]
     },
     "metadata": {
      "needs_background": "light"
     },
     "output_type": "display_data"
    },
    {
     "name": "stdout",
     "output_type": "stream",
     "text": [
      "[4]\n",
      "한번에 로드되는 데이터 크기: 16\n",
      "torch.Size([16, 28, 28])\n",
      "torch.Size([16])\n"
     ]
    },
    {
     "data": {
      "image/png": "[encoded data removed]",
      "text/plain": [
       "<Figure size 432x288 with 3 Axes>"
      ]
     },
     "metadata": {
      "needs_background": "light"
     },
     "output_type": "display_data"
    },
    {
     "name": "stdout",
     "output_type": "stream",
     "text": [
      "[5]\n",
      "한번에 로드되는 데이터 크기: 16\n",
      "torch.Size([16, 28, 28])\n",
      "torch.Size([16])\n"
     ]
    },
    {
     "data": {
      "image/png": "[encoded data removed]",
      "text/plain": [
       "<Figure size 432x288 with 3 Axes>"
      ]
     },
     "metadata": {
      "needs_background": "light"
     },
     "output_type": "display_data"
    }
   ],
   "source": [
    "n=3\n",
    "for i,[imgs,labels] in enumerate(test_loader):\n",
    "    if i>5:\n",
    "        break\n",
    "    print \"[%d]\" %i\n",
    "    print \"한번에 로드되는 데이터 크기:\", len(imgs)\n",
    "    x=Variable(imgs)\n",
    "    x=x.reshape((x.shape[0],x.shape[2],x.shape[3]))\n",
    "    y_=Variable(labels)\n",
    "    print x.shape\n",
    "    print y_.shape\n",
    "    for j in range(n):\n",
    "        img=imgs[j].numpy()\n",
    "        img=img.reshape((img.shape[1],img.shape[2]))\n",
    "        \n",
    "        plt.subplot(1,n,j+1)\n",
    "        plt.imshow(img,cmap='gray')\n",
    "        plt.title(\"label: %d\"%labels[j])\n",
    "    plt.show()"
   ]
  },
  {
   "cell_type": "code",
   "execution_count": null,
   "id": "critical-tragedy",
   "metadata": {},
   "outputs": [],
   "source": []
  }
 ],
 "metadata": {
  "kernelspec": {
   "display_name": "conda_pytorch_p27",
   "language": "python",
   "name": "conda_pytorch_p27"
  },
  "language_info": {
   "codemirror_mode": {
    "name": "ipython",
    "version": 2
   },
   "file_extension": ".py",
   "mimetype": "text/x-python",
   "name": "python",
   "nbconvert_exporter": "python",
   "pygments_lexer": "ipython2",
   "version": "2.7.16"
  }
 },
 "nbformat": 4,
 "nbformat_minor": 5
}
